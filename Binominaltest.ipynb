{
 "cells": [
  {
   "cell_type": "code",
   "execution_count": 1,
   "metadata": {
    "collapsed": true
   },
   "outputs": [],
   "source": [
    "%matplotlib inline"
   ]
  },
  {
   "cell_type": "code",
   "execution_count": 2,
   "metadata": {
    "collapsed": true
   },
   "outputs": [],
   "source": [
    "import matplotlib.pyplot as plt\n",
    "import matplotlib.patches as patches\n",
    "import scipy.stats"
   ]
  },
  {
   "cell_type": "code",
   "execution_count": 8,
   "metadata": {},
   "outputs": [
    {
     "data": {
      "text/plain": [
       "Text(0,0.5,'Wahrscheinlichkeit')"
      ]
     },
     "execution_count": 8,
     "metadata": {},
     "output_type": "execute_result"
    },
    {
     "data": {
      "image/png": "[encoded data removed]",
      "text/plain": [
       "<matplotlib.figure.Figure at 0x7fb19bbc0780>"
      ]
     },
     "metadata": {},
     "output_type": "display_data"
    }
   ],
   "source": [
    "# Anzahl an Beobachtungen\n",
    "n = 60\n",
    "# Auftrittwahrscheinlichkeit der Erfolges bei einem Versuch\n",
    "p = 0.5\n",
    "# Signifikanzniveau\n",
    "alpha = 0.05\n",
    "verwerfungsbereich_zeigen = True\n",
    "# Berechnung der Werte für verschiedene k\n",
    "x = scipy.linspace(0, n, n + 1)\n",
    "binomial = scipy.stats.binom(n, p)\n",
    "y = binomial.pmf(x)\n",
    "verwerfungsbereich = scipy.stats.binom.interval(1-alpha, n, p)\n",
    "# Darstellung mit Verwerfungsbereich\n",
    "fig = plt.figure(figsize=(8, 4))\n",
    "ax = fig.add_subplot(111)\n",
    "plt.bar(x, y)\n",
    "if verwerfungsbereich_zeigen:\n",
    "    ax.add_patch(patches.Rectangle(\n",
    "        (verwerfungsbereich[0], 0), \n",
    "        verwerfungsbereich[1]- verwerfungsbereich[0], 1, \n",
    "        color=\"red\", alpha=0.5))\n",
    "plt.xlabel(\"Anzahl an Erfolgen\")\n",
    "plt.ylabel(\"Wahrscheinlichkeit\")"
   ]
  },
  {
   "cell_type": "markdown",
   "metadata": {},
   "source": [
    "     "
   ]
  },
  {
   "cell_type": "code",
   "execution_count": null,
   "metadata": {
    "collapsed": true
   },
   "outputs": [],
   "source": []
  }
 ],
 "metadata": {
  "kernelspec": {
   "display_name": "Python 3",
   "language": "python",
   "name": "python3"
  },
  "language_info": {
   "codemirror_mode": {
    "name": "ipython",
    "version": 3
   },
   "file_extension": ".py",
   "mimetype": "text/x-python",
   "name": "python",
   "nbconvert_exporter": "python",
   "pygments_lexer": "ipython3",
   "version": "3.6.3"
  }
 },
 "nbformat": 4,
 "nbformat_minor": 2
}
